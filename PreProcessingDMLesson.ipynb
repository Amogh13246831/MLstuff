{
 "cells": [
  {
   "cell_type": "markdown",
   "metadata": {},
   "source": [
    "<h1>Data Preprocessing for Neural Networks</h1>\n",
    "\n",
    "<h2>Amogh S. Inamdar</h2>\n",
    "<h6></h6>\n",
    "For a guest lesson in Data Mining (CSE01) at Ramaiah Institute of Technology\n",
    "\n",
    "<blockquote>\n",
    "    \n",
    "   Here, we use a Cardiovascular Disease dataset, sourced from Kaggle.\n",
    "   \n",
    "   <blockquote>Find the dataset <a href=https://www.kaggle.com/sulianova/eda-cardiovascular-data/data>here</a></blockquote>\n",
    "    \n",
    "   Libraries used:\n",
    "   <blockquote>\n",
    "   <a href=https://matplotlib.org/>Matplotlib</a>\n",
    "     \n",
    "   <a href=https://seaborn.pydata.org/>Seaborn</a>\n",
    "     \n",
    "   <a href=https://scikit-learn.org/stable/>Scikit-Learn</a>\n",
    "   \n",
    "   <a href=https://www.tensorflow.org/>TensorFlow</a> \n",
    "   \n",
    "   <a href=https://keras.io>Keras</a>\n",
    "   </blockquote>\n",
    "   \n",
    "</blockquote>"
   ]
  },
  {
   "cell_type": "code",
   "execution_count": 1,
   "metadata": {},
   "outputs": [
    {
     "name": "stderr",
     "output_type": "stream",
     "text": [
      "Using TensorFlow backend.\n"
     ]
    },
    {
     "name": "stdout",
     "output_type": "stream",
     "text": [
      "CVD Positive:  34979\n",
      "CVD Positive in sample:  5049\n"
     ]
    }
   ],
   "source": [
    "import numpy as np \n",
    "import pandas as pd \n",
    "import matplotlib.pyplot as plt\n",
    "import seaborn as sns\n",
    "\n",
    "from sklearn.preprocessing import StandardScaler, MinMaxScaler\n",
    "from sklearn.decomposition import PCA\n",
    "from sklearn.feature_selection import chi2, SelectKBest\n",
    "\n",
    "import keras as kr\n",
    "from keras.models import Sequential\n",
    "from keras.layers import Dense\n",
    "\n",
    "df = pd.read_csv(\"cardio_train.csv\")\n",
    "\n",
    "# print(df.shape) # samples X attributes\n",
    "print(\"CVD Positive: \", df[df['cardio']==1].shape[0]) # number of samples with cardiovascular disease\n",
    "\n",
    "df = df.sample(10000, random_state=1)\n",
    "\n",
    "print(\"CVD Positive in sample: \", df[df['cardio']==1].shape[0])   # number of elements with cardiovascular disease\n",
    "df.head()\n",
    "\n",
    "X = df[['gender', 'smoke', 'alco', 'active', \n",
    "             'age', 'height', 'weight', 'ap_hi', 'ap_lo',\n",
    "            'gluc', 'cholesterol']].values\n",
    "Y = df['cardio'].values"
   ]
  },
  {
   "cell_type": "markdown",
   "metadata": {},
   "source": [
    "\n",
    "<h2>Validating Your Data</h2>\n",
    "    \n",
    "Data often contains missing/invalid values, or values in ranges that do not make sense.\n",
    "    \n",
    "<blockquote>In this dataset, age is represented in days. Let's convert it to (365-day) years.</blockquote>"
   ]
  },
  {
   "cell_type": "code",
   "execution_count": 2,
   "metadata": {},
   "outputs": [
    {
     "data": {
      "text/html": [
       "<div>\n",
       "<style scoped>\n",
       "    .dataframe tbody tr th:only-of-type {\n",
       "        vertical-align: middle;\n",
       "    }\n",
       "\n",
       "    .dataframe tbody tr th {\n",
       "        vertical-align: top;\n",
       "    }\n",
       "\n",
       "    .dataframe thead th {\n",
       "        text-align: right;\n",
       "    }\n",
       "</style>\n",
       "<table border=\"1\" class=\"dataframe\">\n",
       "  <thead>\n",
       "    <tr style=\"text-align: right;\">\n",
       "      <th></th>\n",
       "      <th>id</th>\n",
       "      <th>age</th>\n",
       "      <th>gender</th>\n",
       "      <th>height</th>\n",
       "      <th>weight</th>\n",
       "      <th>ap_hi</th>\n",
       "      <th>ap_lo</th>\n",
       "      <th>cholesterol</th>\n",
       "      <th>gluc</th>\n",
       "      <th>smoke</th>\n",
       "      <th>alco</th>\n",
       "      <th>active</th>\n",
       "      <th>cardio</th>\n",
       "    </tr>\n",
       "  </thead>\n",
       "  <tbody>\n",
       "    <tr>\n",
       "      <th>6670</th>\n",
       "      <td>9510</td>\n",
       "      <td>44.106849</td>\n",
       "      <td>1</td>\n",
       "      <td>153</td>\n",
       "      <td>93.0</td>\n",
       "      <td>140</td>\n",
       "      <td>90</td>\n",
       "      <td>1</td>\n",
       "      <td>1</td>\n",
       "      <td>0</td>\n",
       "      <td>0</td>\n",
       "      <td>1</td>\n",
       "      <td>1</td>\n",
       "    </tr>\n",
       "    <tr>\n",
       "      <th>49567</th>\n",
       "      <td>70773</td>\n",
       "      <td>39.553425</td>\n",
       "      <td>1</td>\n",
       "      <td>157</td>\n",
       "      <td>89.0</td>\n",
       "      <td>120</td>\n",
       "      <td>80</td>\n",
       "      <td>1</td>\n",
       "      <td>1</td>\n",
       "      <td>0</td>\n",
       "      <td>0</td>\n",
       "      <td>1</td>\n",
       "      <td>1</td>\n",
       "    </tr>\n",
       "    <tr>\n",
       "      <th>50796</th>\n",
       "      <td>72486</td>\n",
       "      <td>54.353425</td>\n",
       "      <td>1</td>\n",
       "      <td>165</td>\n",
       "      <td>66.0</td>\n",
       "      <td>150</td>\n",
       "      <td>90</td>\n",
       "      <td>1</td>\n",
       "      <td>1</td>\n",
       "      <td>0</td>\n",
       "      <td>0</td>\n",
       "      <td>1</td>\n",
       "      <td>1</td>\n",
       "    </tr>\n",
       "    <tr>\n",
       "      <th>22310</th>\n",
       "      <td>31877</td>\n",
       "      <td>49.452055</td>\n",
       "      <td>2</td>\n",
       "      <td>176</td>\n",
       "      <td>88.0</td>\n",
       "      <td>160</td>\n",
       "      <td>100</td>\n",
       "      <td>2</td>\n",
       "      <td>2</td>\n",
       "      <td>1</td>\n",
       "      <td>1</td>\n",
       "      <td>1</td>\n",
       "      <td>1</td>\n",
       "    </tr>\n",
       "    <tr>\n",
       "      <th>54037</th>\n",
       "      <td>77086</td>\n",
       "      <td>46.079452</td>\n",
       "      <td>2</td>\n",
       "      <td>165</td>\n",
       "      <td>78.0</td>\n",
       "      <td>140</td>\n",
       "      <td>90</td>\n",
       "      <td>1</td>\n",
       "      <td>1</td>\n",
       "      <td>0</td>\n",
       "      <td>0</td>\n",
       "      <td>0</td>\n",
       "      <td>1</td>\n",
       "    </tr>\n",
       "  </tbody>\n",
       "</table>\n",
       "</div>"
      ],
      "text/plain": [
       "          id        age  gender  height  weight  ap_hi  ap_lo  cholesterol  \\\n",
       "6670    9510  44.106849       1     153    93.0    140     90            1   \n",
       "49567  70773  39.553425       1     157    89.0    120     80            1   \n",
       "50796  72486  54.353425       1     165    66.0    150     90            1   \n",
       "22310  31877  49.452055       2     176    88.0    160    100            2   \n",
       "54037  77086  46.079452       2     165    78.0    140     90            1   \n",
       "\n",
       "       gluc  smoke  alco  active  cardio  \n",
       "6670      1      0     0       1       1  \n",
       "49567     1      0     0       1       1  \n",
       "50796     1      0     0       1       1  \n",
       "22310     2      1     1       1       1  \n",
       "54037     1      0     0       0       1  "
      ]
     },
     "execution_count": 2,
     "metadata": {},
     "output_type": "execute_result"
    }
   ],
   "source": [
    "df['age'] = df['age']/365\n",
    "df.head()"
   ]
  },
  {
   "cell_type": "markdown",
   "metadata": {},
   "source": [
    "<blockquote>Missing values can affect performance and correctness. Thankfully, this dataset is devoid of any"
   ]
  },
  {
   "cell_type": "code",
   "execution_count": 3,
   "metadata": {},
   "outputs": [
    {
     "name": "stdout",
     "output_type": "stream",
     "text": [
      "Missing values exist?  False\n"
     ]
    }
   ],
   "source": [
    "print(\"Missing values exist? \", df.isnull().values.any())"
   ]
  },
  {
   "cell_type": "markdown",
   "metadata": {},
   "source": [
    "<blockquote>Outliers can grossly diminish model performance. To detect and remove outliers, we use boxplots here.\n",
    "    \n",
    "    One approach would be to keep only the data that falls within the IQR. However, this could lead to eliminating a large number of useful samples.\n",
    "    \n",
    "    However, values that are out of range of the boxplot whiskers are almost certainly outliers. \n",
    "    Here, we keep 95%  of the data, discarding the extremum percentiles (95% ~ upto 2 standard deviations away from the mean)."
   ]
  },
  {
   "cell_type": "code",
   "execution_count": 4,
   "metadata": {},
   "outputs": [
    {
     "data": {
      "text/plain": [
       "{'whiskers': [<matplotlib.lines.Line2D at 0x7f5e736bd4a8>,\n",
       "  <matplotlib.lines.Line2D at 0x7f5e736bd7f0>,\n",
       "  <matplotlib.lines.Line2D at 0x7f5e7364fc50>,\n",
       "  <matplotlib.lines.Line2D at 0x7f5e7364ff98>],\n",
       " 'caps': [<matplotlib.lines.Line2D at 0x7f5e736bdb38>,\n",
       "  <matplotlib.lines.Line2D at 0x7f5e736bde80>,\n",
       "  <matplotlib.lines.Line2D at 0x7f5e7365b320>,\n",
       "  <matplotlib.lines.Line2D at 0x7f5e7365b668>],\n",
       " 'boxes': [<matplotlib.lines.Line2D at 0x7f5e736bd080>,\n",
       "  <matplotlib.lines.Line2D at 0x7f5e7364f908>],\n",
       " 'medians': [<matplotlib.lines.Line2D at 0x7f5e736bdf60>,\n",
       "  <matplotlib.lines.Line2D at 0x7f5e7365b9b0>],\n",
       " 'fliers': [<matplotlib.lines.Line2D at 0x7f5e7364f550>,\n",
       "  <matplotlib.lines.Line2D at 0x7f5e7365bcf8>],\n",
       " 'means': []}"
      ]
     },
     "execution_count": 4,
     "metadata": {},
     "output_type": "execute_result"
    },
    {
     "data": {
      "image/png": "[encoded data removed]",
      "text/plain": [
       "<Figure size 432x288 with 1 Axes>"
      ]
     },
     "metadata": {
      "needs_background": "light"
     },
     "output_type": "display_data"
    }
   ],
   "source": [
    "plt.boxplot([df['height'], df['weight']])"
   ]
  },
  {
   "cell_type": "code",
   "execution_count": 5,
   "metadata": {},
   "outputs": [
    {
     "data": {
      "text/plain": [
       "{'whiskers': [<matplotlib.lines.Line2D at 0x7f5e735f0780>,\n",
       "  <matplotlib.lines.Line2D at 0x7f5e735f0ac8>,\n",
       "  <matplotlib.lines.Line2D at 0x7f5e735f9eb8>,\n",
       "  <matplotlib.lines.Line2D at 0x7f5e735f9f98>],\n",
       " 'caps': [<matplotlib.lines.Line2D at 0x7f5e735f0e10>,\n",
       "  <matplotlib.lines.Line2D at 0x7f5e735f0ef0>,\n",
       "  <matplotlib.lines.Line2D at 0x7f5e73603588>,\n",
       "  <matplotlib.lines.Line2D at 0x7f5e736038d0>],\n",
       " 'boxes': [<matplotlib.lines.Line2D at 0x7f5e735f0390>,\n",
       "  <matplotlib.lines.Line2D at 0x7f5e735f9b70>],\n",
       " 'medians': [<matplotlib.lines.Line2D at 0x7f5e735f94e0>,\n",
       "  <matplotlib.lines.Line2D at 0x7f5e73603c18>],\n",
       " 'fliers': [<matplotlib.lines.Line2D at 0x7f5e735f9828>,\n",
       "  <matplotlib.lines.Line2D at 0x7f5e73603f60>],\n",
       " 'means': []}"
      ]
     },
     "execution_count": 5,
     "metadata": {},
     "output_type": "execute_result"
    },
    {
     "data": {
      "image/png": "[encoded data removed]",
      "text/plain": [
       "<Figure size 432x288 with 1 Axes>"
      ]
     },
     "metadata": {
      "needs_background": "light"
     },
     "output_type": "display_data"
    }
   ],
   "source": [
    "#Removing invalid weights and heights\n",
    "df.drop(df[(df['height'] > df['height'].quantile(0.975)) | (df['height'] < df['height'].quantile(0.025))].index,inplace=True)\n",
    "df.drop(df[(df['weight'] > df['weight'].quantile(0.975)) | (df['weight'] < df['weight'].quantile(0.025))].index,inplace=True)\n",
    "\n",
    "plt.boxplot([df['height'], df['weight']])"
   ]
  },
  {
   "cell_type": "markdown",
   "metadata": {},
   "source": [
    "<blockquote>Some attributes can have values that may seem plausible, but cannot be right taking other attributes into account. Detecting this kind of information usually requires prior knowledge of the data and the research domain. \n",
    "    \n",
    "    Here, some samples have values of Systolic BP (ap_hi) lower than that of Diastolic BP (ap_lo). \n",
    "    This is nonsensical from a biological standpoint.\n",
    "    \n",
    "    One approach would be to simply swap the values to account for mistakes in data entry, but this would add bias to the model that might not be correct. \n",
    "    Here, we simply discard such samples.\n",
    "    \n",
    "    Having equal/nearly equal values of ap_hi and ap_lo would also be invalid, but we do not address this issue here."
   ]
  },
  {
   "cell_type": "code",
   "execution_count": 6,
   "metadata": {},
   "outputs": [
    {
     "name": "stdout",
     "output_type": "stream",
     "text": [
      "Diastolic pressure is higher than systolic one in 162 cases\n"
     ]
    },
    {
     "data": {
      "image/png": "[encoded data removed]",
      "text/plain": [
       "<Figure size 432x288 with 1 Axes>"
      ]
     },
     "metadata": {
      "needs_background": "light"
     },
     "output_type": "display_data"
    }
   ],
   "source": [
    "#Removing invalid BP\n",
    "plt.boxplot([df['ap_lo'], df['ap_hi']])\n",
    "print(\"Diastolic pressure is higher than systolic one in {0} cases\".format(df[df['ap_lo']> df['ap_hi']].shape[0]))"
   ]
  },
  {
   "cell_type": "code",
   "execution_count": 7,
   "metadata": {},
   "outputs": [
    {
     "name": "stdout",
     "output_type": "stream",
     "text": [
      "Diastolic pressure is higher than systolic one in 0 cases\n"
     ]
    },
    {
     "data": {
      "image/png": "[encoded data removed]",
      "text/plain": [
       "<Figure size 432x288 with 1 Axes>"
      ]
     },
     "metadata": {
      "needs_background": "light"
     },
     "output_type": "display_data"
    }
   ],
   "source": [
    "#Removing outliers\n",
    "df.drop(df[(df['ap_hi'] > df['ap_hi'].quantile(0.975)) | (df['ap_hi'] < df['ap_hi'].quantile(0.025))].index,inplace=True)\n",
    "df.drop(df[(df['ap_lo'] > df['ap_lo'].quantile(0.975)) | (df['ap_lo'] < df['ap_lo'].quantile(0.025))].index,inplace=True)\n",
    "\n",
    "plt.boxplot([df['ap_lo'], df['ap_hi']])\n",
    "print(\"Diastolic pressure is higher than systolic one in {0} cases\".format(df[df['ap_lo']> df['ap_hi']].shape[0]))"
   ]
  },
  {
   "cell_type": "markdown",
   "metadata": {},
   "source": [
    "<h2>Analysing the Effects of the Data Attributes</h2> "
   ]
  },
  {
   "cell_type": "code",
   "execution_count": 8,
   "metadata": {},
   "outputs": [
    {
     "name": "stderr",
     "output_type": "stream",
     "text": [
      "/home/amogh/anaconda3/lib/python3.7/site-packages/scipy/stats/stats.py:1713: FutureWarning: Using a non-tuple sequence for multidimensional indexing is deprecated; use `arr[tuple(seq)]` instead of `arr[seq]`. In the future this will be interpreted as an array index, `arr[np.array(seq)]`, which will result either in an error or a different result.\n",
      "  return np.add.reduce(sorted[indexer] * weights, axis=axis) / sumval\n"
     ]
    },
    {
     "data": {
      "text/plain": [
       "<matplotlib.axes._subplots.AxesSubplot at 0x7f5e734882e8>"
      ]
     },
     "execution_count": 8,
     "metadata": {},
     "output_type": "execute_result"
    },
    {
     "data": {
      "image/png": "[encoded data removed]",
      "text/plain": [
       "<Figure size 432x288 with 1 Axes>"
      ]
     },
     "metadata": {
      "needs_background": "light"
     },
     "output_type": "display_data"
    }
   ],
   "source": [
    "sns.distplot(df[df['cardio']==0]['weight'], hist=False, rug=True)\n",
    "sns.distplot(df[df['cardio']==1]['weight'], hist=False, rug=True)"
   ]
  },
  {
   "cell_type": "code",
   "execution_count": 9,
   "metadata": {},
   "outputs": [
    {
     "data": {
      "text/plain": [
       "<matplotlib.axes._subplots.AxesSubplot at 0x7f5e72fa0ac8>"
      ]
     },
     "execution_count": 9,
     "metadata": {},
     "output_type": "execute_result"
    },
    {
     "data": {
      "image/png": "[encoded data removed]",
      "text/plain": [
       "<Figure size 432x288 with 1 Axes>"
      ]
     },
     "metadata": {
      "needs_background": "light"
     },
     "output_type": "display_data"
    }
   ],
   "source": [
    "sns.distplot(df[df['cardio']==0]['height'], hist=False, rug=True)\n",
    "sns.distplot(df[df['cardio']==1]['height'], hist=False, rug=True)"
   ]
  },
  {
   "cell_type": "code",
   "execution_count": 10,
   "metadata": {},
   "outputs": [
    {
     "data": {
      "text/plain": [
       "<matplotlib.axes._subplots.AxesSubplot at 0x7f5e72afb278>"
      ]
     },
     "execution_count": 10,
     "metadata": {},
     "output_type": "execute_result"
    },
    {
     "data": {
      "image/png": "[encoded data removed]",
      "text/plain": [
       "<Figure size 432x288 with 1 Axes>"
      ]
     },
     "metadata": {
      "needs_background": "light"
     },
     "output_type": "display_data"
    }
   ],
   "source": [
    "sns.distplot(df[df['cardio']==0]['age'], hist=False, rug=True)\n",
    "sns.distplot(df[df['cardio']==1]['age'], hist=False, rug=True)"
   ]
  },
  {
   "cell_type": "code",
   "execution_count": 11,
   "metadata": {},
   "outputs": [
    {
     "data": {
      "text/plain": [
       "<matplotlib.axes._subplots.AxesSubplot at 0x7f5e734f6da0>"
      ]
     },
     "execution_count": 11,
     "metadata": {},
     "output_type": "execute_result"
    },
    {
     "data": {
      "image/png": "[encoded data removed]",
      "text/plain": [
       "<Figure size 432x288 with 1 Axes>"
      ]
     },
     "metadata": {
      "needs_background": "light"
     },
     "output_type": "display_data"
    }
   ],
   "source": [
    "sns.distplot(df[df['cardio']==0]['ap_lo'], hist=False, rug=True)\n",
    "sns.distplot(df[df['cardio']==1]['ap_lo'], hist=False, rug=True)"
   ]
  },
  {
   "cell_type": "code",
   "execution_count": 12,
   "metadata": {},
   "outputs": [
    {
     "data": {
      "text/plain": [
       "<matplotlib.axes._subplots.AxesSubplot at 0x7f5e72214ac8>"
      ]
     },
     "execution_count": 12,
     "metadata": {},
     "output_type": "execute_result"
    },
    {
     "data": {
      "image/png": "[encoded data removed]",
      "text/plain": [
       "<Figure size 432x288 with 1 Axes>"
      ]
     },
     "metadata": {
      "needs_background": "light"
     },
     "output_type": "display_data"
    }
   ],
   "source": [
    "sns.distplot(df[df['cardio']==0]['ap_hi'], hist=False, rug=True)\n",
    "sns.distplot(df[df['cardio']==1]['ap_hi'], hist=False, rug=True)"
   ]
  },
  {
   "cell_type": "code",
   "execution_count": 13,
   "metadata": {},
   "outputs": [
    {
     "data": {
      "text/plain": [
       "<matplotlib.axes._subplots.AxesSubplot at 0x7f5e71d9dc18>"
      ]
     },
     "execution_count": 13,
     "metadata": {},
     "output_type": "execute_result"
    },
    {
     "data": {
      "image/png": "[encoded data removed]",
      "text/plain": [
       "<Figure size 432x288 with 1 Axes>"
      ]
     },
     "metadata": {
      "needs_background": "light"
     },
     "output_type": "display_data"
    }
   ],
   "source": [
    "sns.countplot(x='gender', hue='cardio', data=df)"
   ]
  },
  {
   "cell_type": "code",
   "execution_count": 14,
   "metadata": {},
   "outputs": [
    {
     "data": {
      "text/plain": [
       "<matplotlib.axes._subplots.AxesSubplot at 0x7f5e71d1e6a0>"
      ]
     },
     "execution_count": 14,
     "metadata": {},
     "output_type": "execute_result"
    },
    {
     "data": {
      "image/png": "[encoded data removed]",
      "text/plain": [
       "<Figure size 432x288 with 1 Axes>"
      ]
     },
     "metadata": {
      "needs_background": "light"
     },
     "output_type": "display_data"
    }
   ],
   "source": [
    "sns.countplot(x='smoke', hue='cardio', data=df)"
   ]
  },
  {
   "cell_type": "code",
   "execution_count": 15,
   "metadata": {},
   "outputs": [
    {
     "data": {
      "text/plain": [
       "<matplotlib.axes._subplots.AxesSubplot at 0x7f5e71cf3390>"
      ]
     },
     "execution_count": 15,
     "metadata": {},
     "output_type": "execute_result"
    },
    {
     "data": {
      "image/png": "[encoded data removed]",
      "text/plain": [
       "<Figure size 432x288 with 1 Axes>"
      ]
     },
     "metadata": {
      "needs_background": "light"
     },
     "output_type": "display_data"
    }
   ],
   "source": [
    "sns.countplot(x='alco', hue='cardio', data=df)"
   ]
  },
  {
   "cell_type": "code",
   "execution_count": 16,
   "metadata": {},
   "outputs": [
    {
     "data": {
      "text/plain": [
       "<matplotlib.axes._subplots.AxesSubplot at 0x7f5e71c67978>"
      ]
     },
     "execution_count": 16,
     "metadata": {},
     "output_type": "execute_result"
    },
    {
     "data": {
      "image/png": "[encoded data removed]",
      "text/plain": [
       "<Figure size 432x288 with 1 Axes>"
      ]
     },
     "metadata": {
      "needs_background": "light"
     },
     "output_type": "display_data"
    }
   ],
   "source": [
    "sns.countplot(x='cholesterol', hue='cardio', data=df)"
   ]
  },
  {
   "cell_type": "code",
   "execution_count": 17,
   "metadata": {},
   "outputs": [
    {
     "data": {
      "text/plain": [
       "<matplotlib.axes._subplots.AxesSubplot at 0x7f5e77ba6cf8>"
      ]
     },
     "execution_count": 17,
     "metadata": {},
     "output_type": "execute_result"
    },
    {
     "data": {
      "image/png": "[encoded data removed]",
      "text/plain": [
       "<Figure size 432x288 with 1 Axes>"
      ]
     },
     "metadata": {
      "needs_background": "light"
     },
     "output_type": "display_data"
    }
   ],
   "source": [
    "sns.countplot(x='gluc', hue='cardio', data=df)"
   ]
  },
  {
   "cell_type": "markdown",
   "metadata": {},
   "source": [
    "<h2>A Preliminary Classification Model</h2>"
   ]
  },
  {
   "cell_type": "code",
   "execution_count": 18,
   "metadata": {},
   "outputs": [
    {
     "name": "stdout",
     "output_type": "stream",
     "text": [
      "WARNING:tensorflow:From /home/amogh/anaconda3/lib/python3.7/site-packages/tensorflow/python/framework/op_def_library.py:263: colocate_with (from tensorflow.python.framework.ops) is deprecated and will be removed in a future version.\n",
      "Instructions for updating:\n",
      "Colocations handled automatically by placer.\n",
      "WARNING:tensorflow:From /home/amogh/anaconda3/lib/python3.7/site-packages/tensorflow/python/ops/math_ops.py:3066: to_int32 (from tensorflow.python.ops.math_ops) is deprecated and will be removed in a future version.\n",
      "Instructions for updating:\n",
      "Use tf.cast instead.\n",
      "Epoch 1/10\n",
      "10000/10000 [==============================] - 1s 88us/step - loss: 0.2521 - acc: 0.4999\n",
      "Epoch 2/10\n",
      "10000/10000 [==============================] - 1s 68us/step - loss: 0.2513 - acc: 0.5034\n",
      "Epoch 3/10\n",
      "10000/10000 [==============================] - 1s 59us/step - loss: 0.2513 - acc: 0.5008\n",
      "Epoch 4/10\n",
      "10000/10000 [==============================] - 1s 60us/step - loss: 0.2517 - acc: 0.4914\n",
      "Epoch 5/10\n",
      "10000/10000 [==============================] - 1s 63us/step - loss: 0.2515 - acc: 0.4963\n",
      "Epoch 6/10\n",
      "10000/10000 [==============================] - 1s 102us/step - loss: 0.2516 - acc: 0.4961\n",
      "Epoch 7/10\n",
      "10000/10000 [==============================] - 1s 78us/step - loss: 0.2515 - acc: 0.4993\n",
      "Epoch 8/10\n",
      "10000/10000 [==============================] - 1s 114us/step - loss: 0.2520 - acc: 0.4853\n",
      "Epoch 9/10\n",
      "10000/10000 [==============================] - 1s 124us/step - loss: 0.2512 - acc: 0.5039\n",
      "Epoch 10/10\n",
      "10000/10000 [==============================] - 1s 98us/step - loss: 0.2505 - acc: 0.5168\n"
     ]
    }
   ],
   "source": [
    "model = Sequential()\n",
    "model.add(Dense(15, input_dim=11, activation='tanh'))\n",
    "model.add(Dense(1, activation='tanh'))\n",
    "\n",
    "model.compile(loss='mse', optimizer='adam', metrics=['accuracy'])\n",
    "history = model.fit(X, Y, epochs=10, batch_size=10)"
   ]
  },
  {
   "cell_type": "markdown",
   "metadata": {},
   "source": [
    "<h2>Wait, WHAT!!! Aren't Neural Networks supposed to be good at classification???</h2>\n",
    "\n",
    "Short Answer: Yes, if you do them right.\n",
    "\n",
    "Long(er) Answer:\n",
    "<blockquote>Neural networks are great, but in the end, they have stastical constraints too.\n",
    "    \n",
    "   If features lie on different scales and are correlated, the network can have trouble approximating the function required to classify.\n",
    "   \n",
    "   To mitigate this, the data must be scaled, and ideally, decorrelated</blockquote>"
   ]
  },
  {
   "cell_type": "code",
   "execution_count": 19,
   "metadata": {
    "scrolled": true
   },
   "outputs": [
    {
     "name": "stdout",
     "output_type": "stream",
     "text": [
      "[[ 44.10684932 153.          93.         140.          90.        ]\n",
      " [ 39.55342466 157.          89.         120.          80.        ]\n",
      " [ 54.35342466 165.          66.         150.          90.        ]\n",
      " [ 49.45205479 176.          88.         160.         100.        ]\n",
      " [ 46.07945205 165.          78.         140.          90.        ]\n",
      " [ 57.60821918 160.          62.         160.          90.        ]\n",
      " [ 53.96164384 169.          98.         120.          70.        ]\n",
      " [ 50.81917808 160.          67.         120.          80.        ]\n",
      " [ 45.65753425 166.          66.         130.          90.        ]\n",
      " [ 39.86849315 155.          61.         110.          70.        ]]\n"
     ]
    },
    {
     "data": {
      "text/plain": [
       "{'whiskers': [<matplotlib.lines.Line2D at 0x7f5e687a95f8>,\n",
       "  <matplotlib.lines.Line2D at 0x7f5e687a9940>,\n",
       "  <matplotlib.lines.Line2D at 0x7f5e687b2d30>,\n",
       "  <matplotlib.lines.Line2D at 0x7f5e687b2e10>,\n",
       "  <matplotlib.lines.Line2D at 0x7f5e68744470>,\n",
       "  <matplotlib.lines.Line2D at 0x7f5e687447b8>,\n",
       "  <matplotlib.lines.Line2D at 0x7f5e68752ba8>,\n",
       "  <matplotlib.lines.Line2D at 0x7f5e68752ef0>,\n",
       "  <matplotlib.lines.Line2D at 0x7f5e68765320>,\n",
       "  <matplotlib.lines.Line2D at 0x7f5e68765668>],\n",
       " 'caps': [<matplotlib.lines.Line2D at 0x7f5e687a9c88>,\n",
       "  <matplotlib.lines.Line2D at 0x7f5e687a9fd0>,\n",
       "  <matplotlib.lines.Line2D at 0x7f5e6873f3c8>,\n",
       "  <matplotlib.lines.Line2D at 0x7f5e6873f710>,\n",
       "  <matplotlib.lines.Line2D at 0x7f5e68744b00>,\n",
       "  <matplotlib.lines.Line2D at 0x7f5e68744e48>,\n",
       "  <matplotlib.lines.Line2D at 0x7f5e68752fd0>,\n",
       "  <matplotlib.lines.Line2D at 0x7f5e6875c5c0>,\n",
       "  <matplotlib.lines.Line2D at 0x7f5e687659b0>,\n",
       "  <matplotlib.lines.Line2D at 0x7f5e68765cf8>],\n",
       " 'boxes': [<matplotlib.lines.Line2D at 0x7f5e687a91d0>,\n",
       "  <matplotlib.lines.Line2D at 0x7f5e687b2a20>,\n",
       "  <matplotlib.lines.Line2D at 0x7f5e6873fe48>,\n",
       "  <matplotlib.lines.Line2D at 0x7f5e68752860>,\n",
       "  <matplotlib.lines.Line2D at 0x7f5e6875cf98>],\n",
       " 'medians': [<matplotlib.lines.Line2D at 0x7f5e687b2390>,\n",
       "  <matplotlib.lines.Line2D at 0x7f5e6873fa58>,\n",
       "  <matplotlib.lines.Line2D at 0x7f5e68744f28>,\n",
       "  <matplotlib.lines.Line2D at 0x7f5e6875c908>,\n",
       "  <matplotlib.lines.Line2D at 0x7f5e68765dd8>],\n",
       " 'fliers': [<matplotlib.lines.Line2D at 0x7f5e687b2668>,\n",
       "  <matplotlib.lines.Line2D at 0x7f5e6873fda0>,\n",
       "  <matplotlib.lines.Line2D at 0x7f5e68752518>,\n",
       "  <matplotlib.lines.Line2D at 0x7f5e6875cc50>,\n",
       "  <matplotlib.lines.Line2D at 0x7f5e687703c8>],\n",
       " 'means': []}"
      ]
     },
     "execution_count": 19,
     "metadata": {},
     "output_type": "execute_result"
    },
    {
     "data": {
      "image/png": "[encoded data removed]",
      "text/plain": [
       "<Figure size 432x288 with 1 Axes>"
      ]
     },
     "metadata": {
      "needs_background": "light"
     },
     "output_type": "display_data"
    }
   ],
   "source": [
    "originals = stdnums = df[['age', 'height', 'weight','ap_hi', 'ap_lo']].values\n",
    "print(stdnums[:10,])\n",
    "plt.boxplot(stdnums)"
   ]
  },
  {
   "cell_type": "markdown",
   "metadata": {},
   "source": [
    "As seen, the values of the numeric attributes lie on different scales.\n",
    "<blockquote>To mitigate this, we use z-score standardization.\n",
    "   All data is brought to a zero-mean, unit-variance range</blockquote>"
   ]
  },
  {
   "cell_type": "code",
   "execution_count": 20,
   "metadata": {},
   "outputs": [
    {
     "name": "stdout",
     "output_type": "stream",
     "text": [
      "[[-1.38037558 -1.68802568  1.73292481  1.0182685   1.08306841]\n",
      " [-2.06074818 -1.10122609  1.38336409 -0.42559351 -0.13352704]\n",
      " [ 0.15066745  0.07237309 -0.62661005  1.74019951  1.08306841]\n",
      " [-0.58169511  1.68607197  1.29597391  2.46213052  2.29966386]\n",
      " [-1.08562933  0.07237309  0.42207211  1.0182685   1.08306841]\n",
      " [ 0.63699877 -0.6611264  -0.97617077  2.46213052  1.08306841]\n",
      " [ 0.09212757  0.65917268  2.1698757  -0.42559351 -1.35012248]\n",
      " [-0.37741958 -0.6611264  -0.53921987 -0.42559351 -0.13352704]\n",
      " [-1.14867227  0.21907299 -0.62661005  0.2963375   1.08306841]\n",
      " [-2.01367065 -1.39462589 -1.06356095 -1.14752452 -1.35012248]]\n"
     ]
    },
    {
     "data": {
      "image/png": "[encoded data removed]",
      "text/plain": [
       "<Figure size 432x288 with 1 Axes>"
      ]
     },
     "metadata": {
      "needs_background": "light"
     },
     "output_type": "display_data"
    }
   ],
   "source": [
    "scaler = StandardScaler()\n",
    "scaler.fit(stdnums)\n",
    "stdnums = scaler.transform(stdnums)\n",
    "plt.boxplot(stdnums)\n",
    "print(stdnums[:10,])"
   ]
  },
  {
   "cell_type": "code",
   "execution_count": 21,
   "metadata": {},
   "outputs": [
    {
     "data": {
      "text/plain": [
       "(8560, 11)"
      ]
     },
     "execution_count": 21,
     "metadata": {},
     "output_type": "execute_result"
    }
   ],
   "source": [
    "X = np.hstack((stdnums, df[['gender', 'smoke', 'alco', 'active', 'gluc', 'cholesterol']].values))\n",
    "\n",
    "X.shape"
   ]
  },
  {
   "cell_type": "code",
   "execution_count": 23,
   "metadata": {},
   "outputs": [
    {
     "name": "stdout",
     "output_type": "stream",
     "text": [
      "Epoch 1/10\n",
      "8560/8560 [==============================] - 1s 75us/step - loss: 0.2016 - acc: 0.7020\n",
      "Epoch 2/10\n",
      "8560/8560 [==============================] - 1s 63us/step - loss: 0.1908 - acc: 0.7181\n",
      "Epoch 3/10\n",
      "8560/8560 [==============================] - 1s 69us/step - loss: 0.1891 - acc: 0.7201\n",
      "Epoch 4/10\n",
      "8560/8560 [==============================] - 1s 58us/step - loss: 0.1880 - acc: 0.7257\n",
      "Epoch 5/10\n",
      "8560/8560 [==============================] - 0s 58us/step - loss: 0.1871 - acc: 0.7200\n",
      "Epoch 6/10\n",
      "8560/8560 [==============================] - 0s 58us/step - loss: 0.1868 - acc: 0.7216\n",
      "Epoch 7/10\n",
      "8560/8560 [==============================] - 1s 71us/step - loss: 0.1867 - acc: 0.7222\n",
      "Epoch 8/10\n",
      "8560/8560 [==============================] - 0s 58us/step - loss: 0.1861 - acc: 0.7237\n",
      "Epoch 9/10\n",
      "8560/8560 [==============================] - 1s 59us/step - loss: 0.1860 - acc: 0.7237\n",
      "Epoch 10/10\n",
      "8560/8560 [==============================] - 1s 59us/step - loss: 0.1858 - acc: 0.7237\n"
     ]
    }
   ],
   "source": [
    "Y = df['cardio'].values\n",
    "\n",
    "model = Sequential()\n",
    "model.add(Dense(15, input_dim=11, activation='tanh'))\n",
    "model.add(Dense(1, activation='tanh'))\n",
    "\n",
    "model.compile(loss='mse', optimizer='adam', metrics=['accuracy'])\n",
    "history = model.fit(X, Y, epochs=10, batch_size=10)"
   ]
  },
  {
   "cell_type": "markdown",
   "metadata": {},
   "source": [
    "<h2>Much Better Already! But are so many variables really necessary?</h2>\n",
    "\n",
    "<blockquote>To analyse the importance of variables and whether they're necessary, we use correlation plots</blockquote>"
   ]
  },
  {
   "cell_type": "code",
   "execution_count": 24,
   "metadata": {
    "scrolled": true
   },
   "outputs": [
    {
     "data": {
      "text/html": [
       "<div>\n",
       "<style scoped>\n",
       "    .dataframe tbody tr th:only-of-type {\n",
       "        vertical-align: middle;\n",
       "    }\n",
       "\n",
       "    .dataframe tbody tr th {\n",
       "        vertical-align: top;\n",
       "    }\n",
       "\n",
       "    .dataframe thead th {\n",
       "        text-align: right;\n",
       "    }\n",
       "</style>\n",
       "<table border=\"1\" class=\"dataframe\">\n",
       "  <thead>\n",
       "    <tr style=\"text-align: right;\">\n",
       "      <th></th>\n",
       "      <th>age</th>\n",
       "      <th>height</th>\n",
       "      <th>weight</th>\n",
       "      <th>ap_hi</th>\n",
       "      <th>ap_lo</th>\n",
       "      <th>gender</th>\n",
       "      <th>smoke</th>\n",
       "      <th>alco</th>\n",
       "      <th>active</th>\n",
       "      <th>gluc</th>\n",
       "      <th>cholesterol</th>\n",
       "    </tr>\n",
       "  </thead>\n",
       "  <tbody>\n",
       "    <tr>\n",
       "      <th>age</th>\n",
       "      <td>1.000000</td>\n",
       "      <td>-0.083903</td>\n",
       "      <td>0.053429</td>\n",
       "      <td>0.191287</td>\n",
       "      <td>0.132361</td>\n",
       "      <td>-0.026701</td>\n",
       "      <td>-0.046362</td>\n",
       "      <td>-0.044056</td>\n",
       "      <td>-0.010371</td>\n",
       "      <td>0.092814</td>\n",
       "      <td>0.139008</td>\n",
       "    </tr>\n",
       "    <tr>\n",
       "      <th>height</th>\n",
       "      <td>-0.083903</td>\n",
       "      <td>1.000000</td>\n",
       "      <td>0.247847</td>\n",
       "      <td>-0.002174</td>\n",
       "      <td>0.013723</td>\n",
       "      <td>0.494978</td>\n",
       "      <td>0.177548</td>\n",
       "      <td>0.070126</td>\n",
       "      <td>-0.014750</td>\n",
       "      <td>-0.050256</td>\n",
       "      <td>-0.079259</td>\n",
       "    </tr>\n",
       "    <tr>\n",
       "      <th>weight</th>\n",
       "      <td>0.053429</td>\n",
       "      <td>0.247847</td>\n",
       "      <td>1.000000</td>\n",
       "      <td>0.221661</td>\n",
       "      <td>0.197556</td>\n",
       "      <td>0.120449</td>\n",
       "      <td>0.041311</td>\n",
       "      <td>0.056455</td>\n",
       "      <td>-0.017928</td>\n",
       "      <td>0.069674</td>\n",
       "      <td>0.130155</td>\n",
       "    </tr>\n",
       "    <tr>\n",
       "      <th>ap_hi</th>\n",
       "      <td>0.191287</td>\n",
       "      <td>-0.002174</td>\n",
       "      <td>0.221661</td>\n",
       "      <td>1.000000</td>\n",
       "      <td>0.688481</td>\n",
       "      <td>0.062576</td>\n",
       "      <td>0.036363</td>\n",
       "      <td>0.013306</td>\n",
       "      <td>-0.000033</td>\n",
       "      <td>0.083884</td>\n",
       "      <td>0.179187</td>\n",
       "    </tr>\n",
       "    <tr>\n",
       "      <th>ap_lo</th>\n",
       "      <td>0.132361</td>\n",
       "      <td>0.013723</td>\n",
       "      <td>0.197556</td>\n",
       "      <td>0.688481</td>\n",
       "      <td>1.000000</td>\n",
       "      <td>0.058813</td>\n",
       "      <td>0.033675</td>\n",
       "      <td>0.019148</td>\n",
       "      <td>0.005129</td>\n",
       "      <td>0.059667</td>\n",
       "      <td>0.135136</td>\n",
       "    </tr>\n",
       "    <tr>\n",
       "      <th>gender</th>\n",
       "      <td>-0.026701</td>\n",
       "      <td>0.494978</td>\n",
       "      <td>0.120449</td>\n",
       "      <td>0.062576</td>\n",
       "      <td>0.058813</td>\n",
       "      <td>1.000000</td>\n",
       "      <td>0.328596</td>\n",
       "      <td>0.153337</td>\n",
       "      <td>0.003897</td>\n",
       "      <td>-0.028810</td>\n",
       "      <td>-0.035484</td>\n",
       "    </tr>\n",
       "    <tr>\n",
       "      <th>smoke</th>\n",
       "      <td>-0.046362</td>\n",
       "      <td>0.177548</td>\n",
       "      <td>0.041311</td>\n",
       "      <td>0.036363</td>\n",
       "      <td>0.033675</td>\n",
       "      <td>0.328596</td>\n",
       "      <td>1.000000</td>\n",
       "      <td>0.334195</td>\n",
       "      <td>0.024971</td>\n",
       "      <td>-0.013940</td>\n",
       "      <td>0.014785</td>\n",
       "    </tr>\n",
       "    <tr>\n",
       "      <th>alco</th>\n",
       "      <td>-0.044056</td>\n",
       "      <td>0.070126</td>\n",
       "      <td>0.056455</td>\n",
       "      <td>0.013306</td>\n",
       "      <td>0.019148</td>\n",
       "      <td>0.153337</td>\n",
       "      <td>0.334195</td>\n",
       "      <td>1.000000</td>\n",
       "      <td>0.028060</td>\n",
       "      <td>0.004190</td>\n",
       "      <td>0.013996</td>\n",
       "    </tr>\n",
       "    <tr>\n",
       "      <th>active</th>\n",
       "      <td>-0.010371</td>\n",
       "      <td>-0.014750</td>\n",
       "      <td>-0.017928</td>\n",
       "      <td>-0.000033</td>\n",
       "      <td>0.005129</td>\n",
       "      <td>0.003897</td>\n",
       "      <td>0.024971</td>\n",
       "      <td>0.028060</td>\n",
       "      <td>1.000000</td>\n",
       "      <td>-0.013869</td>\n",
       "      <td>0.007035</td>\n",
       "    </tr>\n",
       "    <tr>\n",
       "      <th>gluc</th>\n",
       "      <td>0.092814</td>\n",
       "      <td>-0.050256</td>\n",
       "      <td>0.069674</td>\n",
       "      <td>0.083884</td>\n",
       "      <td>0.059667</td>\n",
       "      <td>-0.028810</td>\n",
       "      <td>-0.013940</td>\n",
       "      <td>0.004190</td>\n",
       "      <td>-0.013869</td>\n",
       "      <td>1.000000</td>\n",
       "      <td>0.468379</td>\n",
       "    </tr>\n",
       "    <tr>\n",
       "      <th>cholesterol</th>\n",
       "      <td>0.139008</td>\n",
       "      <td>-0.079259</td>\n",
       "      <td>0.130155</td>\n",
       "      <td>0.179187</td>\n",
       "      <td>0.135136</td>\n",
       "      <td>-0.035484</td>\n",
       "      <td>0.014785</td>\n",
       "      <td>0.013996</td>\n",
       "      <td>0.007035</td>\n",
       "      <td>0.468379</td>\n",
       "      <td>1.000000</td>\n",
       "    </tr>\n",
       "  </tbody>\n",
       "</table>\n",
       "</div>"
      ],
      "text/plain": [
       "                  age    height    weight     ap_hi     ap_lo    gender  \\\n",
       "age          1.000000 -0.083903  0.053429  0.191287  0.132361 -0.026701   \n",
       "height      -0.083903  1.000000  0.247847 -0.002174  0.013723  0.494978   \n",
       "weight       0.053429  0.247847  1.000000  0.221661  0.197556  0.120449   \n",
       "ap_hi        0.191287 -0.002174  0.221661  1.000000  0.688481  0.062576   \n",
       "ap_lo        0.132361  0.013723  0.197556  0.688481  1.000000  0.058813   \n",
       "gender      -0.026701  0.494978  0.120449  0.062576  0.058813  1.000000   \n",
       "smoke       -0.046362  0.177548  0.041311  0.036363  0.033675  0.328596   \n",
       "alco        -0.044056  0.070126  0.056455  0.013306  0.019148  0.153337   \n",
       "active      -0.010371 -0.014750 -0.017928 -0.000033  0.005129  0.003897   \n",
       "gluc         0.092814 -0.050256  0.069674  0.083884  0.059667 -0.028810   \n",
       "cholesterol  0.139008 -0.079259  0.130155  0.179187  0.135136 -0.035484   \n",
       "\n",
       "                smoke      alco    active      gluc  cholesterol  \n",
       "age         -0.046362 -0.044056 -0.010371  0.092814     0.139008  \n",
       "height       0.177548  0.070126 -0.014750 -0.050256    -0.079259  \n",
       "weight       0.041311  0.056455 -0.017928  0.069674     0.130155  \n",
       "ap_hi        0.036363  0.013306 -0.000033  0.083884     0.179187  \n",
       "ap_lo        0.033675  0.019148  0.005129  0.059667     0.135136  \n",
       "gender       0.328596  0.153337  0.003897 -0.028810    -0.035484  \n",
       "smoke        1.000000  0.334195  0.024971 -0.013940     0.014785  \n",
       "alco         0.334195  1.000000  0.028060  0.004190     0.013996  \n",
       "active       0.024971  0.028060  1.000000 -0.013869     0.007035  \n",
       "gluc        -0.013940  0.004190 -0.013869  1.000000     0.468379  \n",
       "cholesterol  0.014785  0.013996  0.007035  0.468379     1.000000  "
      ]
     },
     "execution_count": 24,
     "metadata": {},
     "output_type": "execute_result"
    }
   ],
   "source": [
    "df_for_correlation = pd.DataFrame(X)\n",
    "df_for_correlation.columns = ['age', 'height', 'weight','ap_hi', 'ap_lo', 'gender', \n",
    "                              'smoke', 'alco', 'active', 'gluc', 'cholesterol']\n",
    "corr_matrix = df_for_correlation.corr()\n",
    "corr_matrix"
   ]
  },
  {
   "cell_type": "code",
   "execution_count": 25,
   "metadata": {},
   "outputs": [
    {
     "data": {
      "text/plain": [
       "<matplotlib.axes._subplots.AxesSubplot at 0x7f5e68645eb8>"
      ]
     },
     "execution_count": 25,
     "metadata": {},
     "output_type": "execute_result"
    },
    {
     "data": {
      "image/png": "[encoded data removed]",
      "text/plain": [
       "<Figure size 648x576 with 2 Axes>"
      ]
     },
     "metadata": {
      "needs_background": "light"
     },
     "output_type": "display_data"
    }
   ],
   "source": [
    "fig, ax = plt.subplots(figsize = (9, 8))\n",
    "sns.heatmap(corr_matrix, ax=ax, cmap='YlGnBu', linewidths=0.1)"
   ]
  },
  {
   "cell_type": "markdown",
   "metadata": {},
   "source": [
    "<blockquote>The predictor variables are mostly uncorrelated here. That's great!. \n",
    "    \n",
    "    Only the blood pressure and blood content variables seem to be strongly correlated.\n",
    "    \n",
    "    Also, as per the analysis before, most of the variables don't seem to influence the target class at all!\n",
    "    Let us now take this into account.\n",
    "    \n",
    "    IF the data were to be correlated, a great way to decorrelate it would be to use PCA as shown.\n",
    "   </blockquote>"
   ]
  },
  {
   "cell_type": "code",
   "execution_count": 26,
   "metadata": {
    "scrolled": true
   },
   "outputs": [
    {
     "name": "stdout",
     "output_type": "stream",
     "text": [
      "Variance per component:  [0.30301111 0.20170132 0.14673686 0.11778723 0.08145872 0.04905031\n",
      " 0.03061353 0.02715344 0.02472202 0.01174654 0.00601892] \n",
      "\n",
      "Singular Values:  [127.52698548 104.04643027  88.74469882  79.51003026  66.12133322\n",
      "  51.30901751  40.53493567  38.17554817  36.42628009  25.10890212\n",
      "  17.97347676]\n",
      "\n",
      "Using only 85% of the energy in the matrix:\n",
      "\n",
      "Variance per component:  [0.30301111 0.20170132 0.14673686 0.11778723 0.08145872] \n",
      "\n",
      "Singular Values:  [127.52698548 104.04643027  88.74469882  79.51003026  66.12133322] \n",
      "\n",
      "[[ 1.35240608 -0.26622555  1.57801964  2.18824707 -1.0240855 ]\n",
      " [-0.5621497   0.54100297  1.4542468   2.1602634  -0.67662849]\n",
      " [ 1.52446392 -0.66091763  0.84699354 -0.92507482 -0.31532276]\n",
      " ...\n",
      " [ 0.30878782  0.82976796 -1.55707308 -0.43104259 -0.51247536]\n",
      " [-0.51923267 -0.54242998  0.43178362  1.13557778 -0.6636885 ]\n",
      " [ 0.63097598 -1.57592225  0.7642924   0.51360707  0.737345  ]]\n"
     ]
    },
    {
     "data": {
      "text/plain": [
       "{'whiskers': [<matplotlib.lines.Line2D at 0x7f5e680a2438>,\n",
       "  <matplotlib.lines.Line2D at 0x7f5e680a2780>,\n",
       "  <matplotlib.lines.Line2D at 0x7f5e680aab70>,\n",
       "  <matplotlib.lines.Line2D at 0x7f5e680aaeb8>,\n",
       "  <matplotlib.lines.Line2D at 0x7f5e6803e2e8>,\n",
       "  <matplotlib.lines.Line2D at 0x7f5e6803e630>,\n",
       "  <matplotlib.lines.Line2D at 0x7f5e6804aa20>,\n",
       "  <matplotlib.lines.Line2D at 0x7f5e6804ad68>,\n",
       "  <matplotlib.lines.Line2D at 0x7f5e68053ef0>,\n",
       "  <matplotlib.lines.Line2D at 0x7f5e6805d4e0>],\n",
       " 'caps': [<matplotlib.lines.Line2D at 0x7f5e680a2ac8>,\n",
       "  <matplotlib.lines.Line2D at 0x7f5e680a2e10>,\n",
       "  <matplotlib.lines.Line2D at 0x7f5e680aaf98>,\n",
       "  <matplotlib.lines.Line2D at 0x7f5e680b5588>,\n",
       "  <matplotlib.lines.Line2D at 0x7f5e6803e978>,\n",
       "  <matplotlib.lines.Line2D at 0x7f5e6803ecc0>,\n",
       "  <matplotlib.lines.Line2D at 0x7f5e6804ae48>,\n",
       "  <matplotlib.lines.Line2D at 0x7f5e68053438>,\n",
       "  <matplotlib.lines.Line2D at 0x7f5e6805d828>,\n",
       "  <matplotlib.lines.Line2D at 0x7f5e6805db70>],\n",
       " 'boxes': [<matplotlib.lines.Line2D at 0x7f5e680a2048>,\n",
       "  <matplotlib.lines.Line2D at 0x7f5e680aa828>,\n",
       "  <matplotlib.lines.Line2D at 0x7f5e680b5f60>,\n",
       "  <matplotlib.lines.Line2D at 0x7f5e6804a6d8>,\n",
       "  <matplotlib.lines.Line2D at 0x7f5e68053e10>],\n",
       " 'medians': [<matplotlib.lines.Line2D at 0x7f5e680a2ef0>,\n",
       "  <matplotlib.lines.Line2D at 0x7f5e680b58d0>,\n",
       "  <matplotlib.lines.Line2D at 0x7f5e6803eda0>,\n",
       "  <matplotlib.lines.Line2D at 0x7f5e68053780>,\n",
       "  <matplotlib.lines.Line2D at 0x7f5e6805deb8>],\n",
       " 'fliers': [<matplotlib.lines.Line2D at 0x7f5e680aa4e0>,\n",
       "  <matplotlib.lines.Line2D at 0x7f5e680b5c18>,\n",
       "  <matplotlib.lines.Line2D at 0x7f5e6804a390>,\n",
       "  <matplotlib.lines.Line2D at 0x7f5e68053ac8>,\n",
       "  <matplotlib.lines.Line2D at 0x7f5e6805df98>],\n",
       " 'means': []}"
      ]
     },
     "execution_count": 26,
     "metadata": {},
     "output_type": "execute_result"
    },
    {
     "data": {
      "image/png": "[encoded data removed]",
      "text/plain": [
       "<Figure size 432x288 with 1 Axes>"
      ]
     },
     "metadata": {
      "needs_background": "light"
     },
     "output_type": "display_data"
    }
   ],
   "source": [
    "pca = PCA(n_components=11)\n",
    "pca.fit(X)\n",
    "\n",
    "print(\"Variance per component: \", pca.explained_variance_ratio_, \"\\n\")\n",
    "print(\"Singular Values: \", pca.singular_values_)\n",
    "\n",
    "print(\"\\nUsing only 85% of the energy in the matrix:\\n\")\n",
    "\n",
    "pca = PCA(n_components=5)\n",
    "X_pca = pca.fit_transform(X)\n",
    "\n",
    "print(\"Variance per component: \", pca.explained_variance_ratio_, \"\\n\")\n",
    "print(\"Singular Values: \", pca.singular_values_, \"\\n\")\n",
    "print(X_pca)\n",
    "plt.boxplot(X_pca)"
   ]
  },
  {
   "cell_type": "code",
   "execution_count": 27,
   "metadata": {},
   "outputs": [
    {
     "data": {
      "text/plain": [
       "<matplotlib.axes._subplots.AxesSubplot at 0x7f5e503cb3c8>"
      ]
     },
     "execution_count": 27,
     "metadata": {},
     "output_type": "execute_result"
    },
    {
     "data": {
      "image/png": "[encoded data removed]",
      "text/plain": [
       "<Figure size 648x576 with 2 Axes>"
      ]
     },
     "metadata": {
      "needs_background": "light"
     },
     "output_type": "display_data"
    }
   ],
   "source": [
    "df_pca_corr = pd.DataFrame(X_pca)\n",
    "corr_post_pca = df_pca_corr.corr()\n",
    "\n",
    "fig, ax = plt.subplots(figsize = (9, 8))\n",
    "sns.heatmap(corr_post_pca, ax=ax, cmap='YlGnBu', linewidths=0.1)"
   ]
  },
  {
   "cell_type": "code",
   "execution_count": 28,
   "metadata": {},
   "outputs": [
    {
     "name": "stdout",
     "output_type": "stream",
     "text": [
      "Epoch 1/10\n",
      "8560/8560 [==============================] - 1s 89us/step - loss: 0.2284 - acc: 0.6757\n",
      "Epoch 2/10\n",
      "8560/8560 [==============================] - 1s 71us/step - loss: 0.2006 - acc: 0.7040\n",
      "Epoch 3/10\n",
      "8560/8560 [==============================] - 1s 63us/step - loss: 0.1975 - acc: 0.7111\n",
      "Epoch 4/10\n",
      "8560/8560 [==============================] - 1s 63us/step - loss: 0.1954 - acc: 0.7099\n",
      "Epoch 5/10\n",
      "8560/8560 [==============================] - 1s 59us/step - loss: 0.1937 - acc: 0.7112\n",
      "Epoch 6/10\n",
      "8560/8560 [==============================] - 1s 66us/step - loss: 0.1928 - acc: 0.7114\n",
      "Epoch 7/10\n",
      "8560/8560 [==============================] - 1s 60us/step - loss: 0.1924 - acc: 0.7125\n",
      "Epoch 8/10\n",
      "8560/8560 [==============================] - 1s 75us/step - loss: 0.1920 - acc: 0.7127\n",
      "Epoch 9/10\n",
      "8560/8560 [==============================] - 1s 60us/step - loss: 0.1922 - acc: 0.7121\n",
      "Epoch 10/10\n",
      "8560/8560 [==============================] - 1s 62us/step - loss: 0.1913 - acc: 0.7114\n"
     ]
    }
   ],
   "source": [
    "model = Sequential()\n",
    "model.add(Dense(15, input_dim=5, activation='tanh'))\n",
    "model.add(Dense(1, activation='tanh'))\n",
    "\n",
    "model.compile(loss='mse', optimizer='adam', metrics=['accuracy'])\n",
    "history = model.fit(X_pca, Y, epochs=10, batch_size=10)"
   ]
  },
  {
   "cell_type": "markdown",
   "metadata": {},
   "source": [
    "Fantastic! The model predicts with almost the same level of accuracy as before, but using only 5 input variables!\n",
    "<blockquote>These variables are the principal components that account for around 85% of the variance in the dataset.\n",
    "    \n",
    "    However, do we even need to use these components? Selecting useful attributes directly might do the job too.\n",
    "    \n",
    "    To do this, we use the chi-squared test. The attributes must be positive numbers for this test, so we use min-max scaling."
   ]
  },
  {
   "cell_type": "code",
   "execution_count": 29,
   "metadata": {},
   "outputs": [
    {
     "name": "stdout",
     "output_type": "stream",
     "text": [
      "[[0.19249125 0.1        0.75925926 0.61538462 0.75      ]\n",
      " [0.01622654 0.23333333 0.68518519 0.30769231 0.5       ]\n",
      " [0.58913989 0.5        0.25925926 0.76923077 0.75      ]\n",
      " [0.39940609 0.86666667 0.66666667 0.92307692 1.        ]\n",
      " [0.26885142 0.5        0.48148148 0.61538462 0.75      ]\n",
      " [0.71513416 0.33333333 0.18518519 0.92307692 0.75      ]\n",
      " [0.57397391 0.63333333 0.85185185 0.30769231 0.25      ]\n",
      " [0.45232792 0.33333333 0.27777778 0.30769231 0.5       ]\n",
      " [0.25251882 0.53333333 0.25925926 0.46153846 0.75      ]\n",
      " [0.02842295 0.16666667 0.16666667 0.15384615 0.25      ]] \n",
      "\n",
      " (8560, 5)\n"
     ]
    },
    {
     "data": {
      "image/png": "[encoded data removed]",
      "text/plain": [
       "<Figure size 432x288 with 1 Axes>"
      ]
     },
     "metadata": {
      "needs_background": "light"
     },
     "output_type": "display_data"
    }
   ],
   "source": [
    "# min-max scaling for values > 0 required by chi-square\n",
    "scaler = MinMaxScaler()\n",
    "scaler.fit(originals)\n",
    "nums = scaler.transform(originals)\n",
    "plt.boxplot(nums)\n",
    "print(nums[:10,], \"\\n\\n\", nums.shape)"
   ]
  },
  {
   "cell_type": "code",
   "execution_count": 30,
   "metadata": {},
   "outputs": [
    {
     "data": {
      "text/plain": [
       "array([ 3, 10])"
      ]
     },
     "execution_count": 30,
     "metadata": {},
     "output_type": "execute_result"
    }
   ],
   "source": [
    "X = np.hstack((nums, df[['gender', 'smoke', 'alco', 'active', 'gluc', 'cholesterol']].values))\n",
    "\n",
    "X_best = SelectKBest(chi2, k=2).fit_transform(X, Y)\n",
    "cols = SelectKBest(chi2, k=2).fit(X, Y).get_support(indices=True)\n",
    "cols"
   ]
  },
  {
   "cell_type": "markdown",
   "metadata": {},
   "source": [
    "<blockquote>Here, we've considered only 2 of the best factors! (turns out they are ap_hi and cholesterol)\n",
    "    \n",
    "    Taking more than 2 variables results in selecting correlated variables, for this dataset. \n",
    "    Believe me, I've checked :)\n",
    "   </blockquote>"
   ]
  },
  {
   "cell_type": "code",
   "execution_count": 31,
   "metadata": {},
   "outputs": [
    {
     "name": "stdout",
     "output_type": "stream",
     "text": [
      "Epoch 1/10\n",
      "8560/8560 [==============================] - 1s 89us/step - loss: 0.2681 - acc: 0.6165\n",
      "Epoch 2/10\n",
      "8560/8560 [==============================] - 1s 65us/step - loss: 0.2026 - acc: 0.7125\n",
      "Epoch 3/10\n",
      "8560/8560 [==============================] - 1s 71us/step - loss: 0.1991 - acc: 0.7151\n",
      "Epoch 4/10\n",
      "8560/8560 [==============================] - 1s 70us/step - loss: 0.1991 - acc: 0.7140\n",
      "Epoch 5/10\n",
      "8560/8560 [==============================] - 1s 87us/step - loss: 0.1988 - acc: 0.7140\n",
      "Epoch 6/10\n",
      "8560/8560 [==============================] - 1s 77us/step - loss: 0.1988 - acc: 0.7157\n",
      "Epoch 7/10\n",
      "8560/8560 [==============================] - 1s 64us/step - loss: 0.1989 - acc: 0.7147\n",
      "Epoch 8/10\n",
      "8560/8560 [==============================] - 1s 61us/step - loss: 0.1988 - acc: 0.7159\n",
      "Epoch 9/10\n",
      "8560/8560 [==============================] - 1s 67us/step - loss: 0.1985 - acc: 0.7151\n",
      "Epoch 10/10\n",
      "8560/8560 [==============================] - 1s 69us/step - loss: 0.1986 - acc: 0.7144\n"
     ]
    }
   ],
   "source": [
    "model = Sequential()\n",
    "model.add(Dense(15, input_dim=2, activation='tanh'))\n",
    "model.add(Dense(1, activation='tanh'))\n",
    "\n",
    "model.compile(loss='mse', optimizer='adam', metrics=['accuracy'])\n",
    "history = model.fit(X_best, Y, epochs=10, batch_size=10)"
   ]
  },
  {
   "cell_type": "code",
   "execution_count": 32,
   "metadata": {},
   "outputs": [
    {
     "data": {
      "text/plain": [
       "<matplotlib.axes._subplots.AxesSubplot at 0x7f5e68713160>"
      ]
     },
     "execution_count": 32,
     "metadata": {},
     "output_type": "execute_result"
    },
    {
     "data": {
      "image/png": "[encoded data removed]",
      "text/plain": [
       "<Figure size 648x576 with 2 Axes>"
      ]
     },
     "metadata": {
      "needs_background": "light"
     },
     "output_type": "display_data"
    }
   ],
   "source": [
    "df_best_corr = pd.DataFrame(X_best)\n",
    "corr_post_best = df_best_corr.corr()\n",
    "\n",
    "fig, ax = plt.subplots(figsize = (9, 8))\n",
    "sns.heatmap(corr_post_best, ax=ax, cmap='YlGnBu', linewidths=0.1)"
   ]
  },
  {
   "cell_type": "markdown",
   "metadata": {},
   "source": [
    "<h2>Incredible! Turns out we can get almost the same classification accuracy with just two input variables</h2>\n",
    "\n",
    "<blockquote>Of course, we could have tested this a lot earlier, but then I wouldn't have been able to bore you for 40 minutes.\n",
    "    \n",
    "    Practically, correlated variables are one of the first to go.\n",
    "    \n",
    "    Missing values follow suit, or are handled in other ways.\n",
    "    \n",
    "    The data is transformed to suit the model being built, and then we're ready to go!\n",
    "   </blockquote>\n",
    "   \n",
    "<h2>Know your data. Tranform your data. Learn from it.</h2>"
   ]
  },
  {
   "cell_type": "code",
   "execution_count": null,
   "metadata": {},
   "outputs": [],
   "source": []
  }
 ],
 "metadata": {
  "kernelspec": {
   "display_name": "Python 3",
   "language": "python",
   "name": "python3"
  },
  "language_info": {
   "codemirror_mode": {
    "name": "ipython",
    "version": 3
   },
   "file_extension": ".py",
   "mimetype": "text/x-python",
   "name": "python",
   "nbconvert_exporter": "python",
   "pygments_lexer": "ipython3",
   "version": "3.7.1"
  }
 },
 "nbformat": 4,
 "nbformat_minor": 2
}
